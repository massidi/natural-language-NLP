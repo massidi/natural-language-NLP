{
  "metadata": {
    "kernelspec": {
      "language": "python",
      "display_name": "Python 3",
      "name": "python3"
    },
    "language_info": {
      "name": "python",
      "version": "3.10.14",
      "mimetype": "text/x-python",
      "codemirror_mode": {
        "name": "ipython",
        "version": 3
      },
      "pygments_lexer": "ipython3",
      "nbconvert_exporter": "python",
      "file_extension": ".py"
    },
    "kaggle": {
      "accelerator": "none",
      "dataSources": [
        {
          "sourceId": 4140,
          "sourceType": "datasetVersion",
          "datasetId": 2477
        }
      ],
      "dockerImageVersionId": 30685,
      "isInternetEnabled": true,
      "language": "python",
      "sourceType": "notebook",
      "isGpuEnabled": false
    },
    "colab": {
      "provenance": []
    }
  },
  "nbformat_minor": 0,
  "nbformat": 4,
  "cells": [
    {
      "cell_type": "markdown",
      "source": [
        "  # SENTIMENTAL ANALYSIS USING TWEETS\n",
        "\n",
        "\n",
        "> ## Text Classification using LSTM\n",
        "\n",
        "\n",
        "---\n",
        "\n",
        "> This is the twitter dataset. It contains 1,600,000 tweets and Contains Six Columns 'target', 'ids', 'date', 'flag', 'user', 'text'.The tweets have been annotated (0 = negative, 4 = positive) and they can be used to detect sentiment.\n",
        "\n",
        "\n",
        "\n",
        "\n",
        "\n",
        "\n"
      ],
      "metadata": {
        "id": "7yOYPAqHEzxK"
      }
    },
    {
      "cell_type": "code",
      "source": [
        "# !pip install --upgrade nltk\n",
        "# !pip install tensorflow==2.15"
      ],
      "metadata": {
        "_uuid": "8f2839f25d086af736a60e9eeb907d3b93b6e0e5",
        "_cell_guid": "b1076dfc-b9ad-4769-8c92-a6c4dae69d19",
        "execution": {
          "iopub.status.busy": "2024-04-10T18:45:36.711677Z",
          "iopub.execute_input": "2024-04-10T18:45:36.712194Z",
          "iopub.status.idle": "2024-04-10T18:45:43.709830Z",
          "shell.execute_reply.started": "2024-04-10T18:45:36.711977Z",
          "shell.execute_reply": "2024-04-10T18:45:43.708665Z"
        },
        "trusted": true,
        "id": "GZZi2MmO6hkb"
      },
      "execution_count": null,
      "outputs": []
    },
    {
      "cell_type": "code",
      "source": [
        "import tensorflow as tf\n",
        "from keras.layers import Embedding\n",
        "from keras.preprocessing.sequence import pad_sequences\n",
        "from keras.models import Sequential\n",
        "from keras.preprocessing.text import one_hot\n",
        "from keras.layers import LSTM\n",
        "from keras.layers import Dense,Bidirectional\n",
        "\n",
        "\n",
        "import numpy as np\n",
        "import pandas as pd\n",
        "\n",
        "\n",
        "import nltk\n",
        "from nltk.stem import WordNetLemmatizer, PorterStemmer\n",
        "from nltk.corpus import stopwords\n",
        "import re\n",
        "\n",
        "\n",
        "\n",
        "\n",
        "\n",
        "\n",
        "from sklearn.model_selection import train_test_split\n",
        "\n",
        "tf.get_logger().setLevel('ERROR')"
      ],
      "metadata": {
        "_uuid": "8f2839f25d086af736a60e9eeb907d3b93b6e0e5",
        "_cell_guid": "b1076dfc-b9ad-4769-8c92-a6c4dae69d19",
        "execution": {
          "iopub.status.busy": "2024-04-10T18:45:43.711815Z",
          "iopub.execute_input": "2024-04-10T18:45:43.712116Z",
          "iopub.status.idle": "2024-04-10T18:45:47.859340Z",
          "shell.execute_reply.started": "2024-04-10T18:45:43.712089Z",
          "shell.execute_reply": "2024-04-10T18:45:47.858461Z"
        },
        "trusted": true,
        "id": "ArD2l3yU6hki"
      },
      "execution_count": null,
      "outputs": []
    },
    {
      "cell_type": "markdown",
      "source": [],
      "metadata": {
        "id": "XYv6z0HaEwUw"
      }
    },
    {
      "cell_type": "code",
      "source": [],
      "metadata": {
        "id": "y1q0RZA06hkk"
      },
      "execution_count": null,
      "outputs": []
    },
    {
      "cell_type": "code",
      "source": [
        "\n",
        "import numpy as np # linear algebra\n",
        "import pandas as pd # data processing, CSV file I/O (e.g. pd.read_csv)\n",
        "\n",
        "\n",
        "import os\n",
        "for dirname, _, filenames in os.walk('/kaggle/input'):\n",
        "    for filename in filenames:\n",
        "        print(os.path.join(dirname, filename))\n"
      ],
      "metadata": {
        "execution": {
          "iopub.status.busy": "2024-04-10T18:45:47.860319Z",
          "iopub.execute_input": "2024-04-10T18:45:47.860768Z",
          "iopub.status.idle": "2024-04-10T18:45:47.884273Z",
          "shell.execute_reply.started": "2024-04-10T18:45:47.860738Z",
          "shell.execute_reply": "2024-04-10T18:45:47.883630Z"
        },
        "trusted": true,
        "id": "pubiAhGi6hkk",
        "outputId": "cc5e9dd9-1ae3-48a3-a782-e861bc40ae5c"
      },
      "execution_count": null,
      "outputs": [
        {
          "name": "stdout",
          "text": "/kaggle/input/sentiment140/training.1600000.processed.noemoticon.csv\n",
          "output_type": "stream"
        }
      ]
    },
    {
      "cell_type": "code",
      "source": [
        "column_names = [\"target\", \"id\", \"date\", \"flag\", \"user\", \"text\"]\n",
        "\n",
        "data = pd.read_csv('/kaggle/input/sentiment140/training.1600000.processed.noemoticon.csv', encoding=\"ISO-8859-1\", names=column_names)\n",
        "# test_tweets  = pd.read_csv('/kaggle/input/twitter-entity-sentiment-analysis/twitter_validation.csv',names=['id', 'User', 'target','text'])\n"
      ],
      "metadata": {
        "execution": {
          "iopub.status.busy": "2024-04-10T18:45:47.885148Z",
          "iopub.execute_input": "2024-04-10T18:45:47.885396Z",
          "iopub.status.idle": "2024-04-10T18:45:51.552052Z",
          "shell.execute_reply.started": "2024-04-10T18:45:47.885371Z",
          "shell.execute_reply": "2024-04-10T18:45:51.551303Z"
        },
        "trusted": true,
        "id": "nACTdj_E6hkl"
      },
      "execution_count": null,
      "outputs": []
    },
    {
      "cell_type": "code",
      "source": [
        "train_tweets= data.copy()\n",
        "train_tweets.head(5)"
      ],
      "metadata": {
        "execution": {
          "iopub.status.busy": "2024-04-10T18:45:51.553924Z",
          "iopub.execute_input": "2024-04-10T18:45:51.554199Z",
          "iopub.status.idle": "2024-04-10T18:45:51.662716Z",
          "shell.execute_reply.started": "2024-04-10T18:45:51.554162Z",
          "shell.execute_reply": "2024-04-10T18:45:51.662006Z"
        },
        "trusted": true,
        "id": "90rBLoAk6hkm",
        "outputId": "6a97631a-d208-4663-91be-069e90d55380"
      },
      "execution_count": null,
      "outputs": [
        {
          "execution_count": 5,
          "output_type": "execute_result",
          "data": {
            "text/plain": "   target          id                          date      flag  \\\n0       0  1467810369  Mon Apr 06 22:19:45 PDT 2009  NO_QUERY   \n1       0  1467810672  Mon Apr 06 22:19:49 PDT 2009  NO_QUERY   \n2       0  1467810917  Mon Apr 06 22:19:53 PDT 2009  NO_QUERY   \n3       0  1467811184  Mon Apr 06 22:19:57 PDT 2009  NO_QUERY   \n4       0  1467811193  Mon Apr 06 22:19:57 PDT 2009  NO_QUERY   \n\n              user                                               text  \n0  _TheSpecialOne_  @switchfoot http://twitpic.com/2y1zl - Awww, t...  \n1    scotthamilton  is upset that he can't update his Facebook by ...  \n2         mattycus  @Kenichan I dived many times for the ball. Man...  \n3          ElleCTF    my whole body feels itchy and like its on fire   \n4           Karoli  @nationwideclass no, it's not behaving at all....  ",
            "text/html": "<div>\n<style scoped>\n    .dataframe tbody tr th:only-of-type {\n        vertical-align: middle;\n    }\n\n    .dataframe tbody tr th {\n        vertical-align: top;\n    }\n\n    .dataframe thead th {\n        text-align: right;\n    }\n</style>\n<table border=\"1\" class=\"dataframe\">\n  <thead>\n    <tr style=\"text-align: right;\">\n      <th></th>\n      <th>target</th>\n      <th>id</th>\n      <th>date</th>\n      <th>flag</th>\n      <th>user</th>\n      <th>text</th>\n    </tr>\n  </thead>\n  <tbody>\n    <tr>\n      <th>0</th>\n      <td>0</td>\n      <td>1467810369</td>\n      <td>Mon Apr 06 22:19:45 PDT 2009</td>\n      <td>NO_QUERY</td>\n      <td>_TheSpecialOne_</td>\n      <td>@switchfoot http://twitpic.com/2y1zl - Awww, t...</td>\n    </tr>\n    <tr>\n      <th>1</th>\n      <td>0</td>\n      <td>1467810672</td>\n      <td>Mon Apr 06 22:19:49 PDT 2009</td>\n      <td>NO_QUERY</td>\n      <td>scotthamilton</td>\n      <td>is upset that he can't update his Facebook by ...</td>\n    </tr>\n    <tr>\n      <th>2</th>\n      <td>0</td>\n      <td>1467810917</td>\n      <td>Mon Apr 06 22:19:53 PDT 2009</td>\n      <td>NO_QUERY</td>\n      <td>mattycus</td>\n      <td>@Kenichan I dived many times for the ball. Man...</td>\n    </tr>\n    <tr>\n      <th>3</th>\n      <td>0</td>\n      <td>1467811184</td>\n      <td>Mon Apr 06 22:19:57 PDT 2009</td>\n      <td>NO_QUERY</td>\n      <td>ElleCTF</td>\n      <td>my whole body feels itchy and like its on fire</td>\n    </tr>\n    <tr>\n      <th>4</th>\n      <td>0</td>\n      <td>1467811193</td>\n      <td>Mon Apr 06 22:19:57 PDT 2009</td>\n      <td>NO_QUERY</td>\n      <td>Karoli</td>\n      <td>@nationwideclass no, it's not behaving at all....</td>\n    </tr>\n  </tbody>\n</table>\n</div>"
          },
          "metadata": {}
        }
      ]
    },
    {
      "cell_type": "code",
      "source": [
        "train_tweets[\"target\"].value_counts()"
      ],
      "metadata": {
        "execution": {
          "iopub.status.busy": "2024-04-10T18:45:51.663645Z",
          "iopub.execute_input": "2024-04-10T18:45:51.663907Z",
          "iopub.status.idle": "2024-04-10T18:45:51.678850Z",
          "shell.execute_reply.started": "2024-04-10T18:45:51.663880Z",
          "shell.execute_reply": "2024-04-10T18:45:51.678131Z"
        },
        "trusted": true,
        "id": "pb0kIzdg6hkm",
        "outputId": "baaf1ffe-925a-48e4-d7e7-73e7bbd101e7"
      },
      "execution_count": null,
      "outputs": [
        {
          "execution_count": 6,
          "output_type": "execute_result",
          "data": {
            "text/plain": "target\n0    800000\n4    800000\nName: count, dtype: int64"
          },
          "metadata": {}
        }
      ]
    },
    {
      "cell_type": "code",
      "source": [
        "train_tweets=train_tweets[[\"target\",\"text\"]]"
      ],
      "metadata": {
        "execution": {
          "iopub.status.busy": "2024-04-10T18:45:51.679877Z",
          "iopub.execute_input": "2024-04-10T18:45:51.680179Z",
          "iopub.status.idle": "2024-04-10T18:45:51.723379Z",
          "shell.execute_reply.started": "2024-04-10T18:45:51.680128Z",
          "shell.execute_reply": "2024-04-10T18:45:51.722708Z"
        },
        "trusted": true,
        "id": "aWGBatbx6hkn"
      },
      "execution_count": null,
      "outputs": []
    },
    {
      "cell_type": "markdown",
      "source": [
        "# ***Data pre-processing***\n",
        "\n",
        "### This code cell performs data preprocessing on the train_tweets DataFrame:\n",
        "\n",
        "\n",
        "\n",
        "1.   It prints the shape of the DataFrame.\n",
        "2.   It prints the count of null values in each column of the DataFrame\n",
        "3.   It drops rows with null values from the DataFrame if there is one.\n",
        "4.   It prints the shape of the DataFrame after dropping null values.\n"
      ],
      "metadata": {
        "id": "ub6NEogRDuey"
      }
    },
    {
      "cell_type": "code",
      "source": [
        "print(\"shape of train_data:\" ,train_tweets.shape)\n",
        "print(\"count the nul value:\" ,train_tweets.isnull().sum())\n",
        "\n",
        "train_tweets.head(5)"
      ],
      "metadata": {
        "execution": {
          "iopub.status.busy": "2024-04-10T18:45:51.724251Z",
          "iopub.execute_input": "2024-04-10T18:45:51.724504Z",
          "iopub.status.idle": "2024-04-10T18:45:51.815134Z",
          "shell.execute_reply.started": "2024-04-10T18:45:51.724480Z",
          "shell.execute_reply": "2024-04-10T18:45:51.814512Z"
        },
        "trusted": true,
        "id": "VzN2vaSM6hkn",
        "outputId": "51e331a7-d05c-4513-b7bd-478cf9a76773"
      },
      "execution_count": null,
      "outputs": [
        {
          "name": "stdout",
          "text": "shape of train_data: (1600000, 2)\ncount the nul value: target    0\ntext      0\ndtype: int64\n",
          "output_type": "stream"
        },
        {
          "execution_count": 8,
          "output_type": "execute_result",
          "data": {
            "text/plain": "   target                                               text\n0       0  @switchfoot http://twitpic.com/2y1zl - Awww, t...\n1       0  is upset that he can't update his Facebook by ...\n2       0  @Kenichan I dived many times for the ball. Man...\n3       0    my whole body feels itchy and like its on fire \n4       0  @nationwideclass no, it's not behaving at all....",
            "text/html": "<div>\n<style scoped>\n    .dataframe tbody tr th:only-of-type {\n        vertical-align: middle;\n    }\n\n    .dataframe tbody tr th {\n        vertical-align: top;\n    }\n\n    .dataframe thead th {\n        text-align: right;\n    }\n</style>\n<table border=\"1\" class=\"dataframe\">\n  <thead>\n    <tr style=\"text-align: right;\">\n      <th></th>\n      <th>target</th>\n      <th>text</th>\n    </tr>\n  </thead>\n  <tbody>\n    <tr>\n      <th>0</th>\n      <td>0</td>\n      <td>@switchfoot http://twitpic.com/2y1zl - Awww, t...</td>\n    </tr>\n    <tr>\n      <th>1</th>\n      <td>0</td>\n      <td>is upset that he can't update his Facebook by ...</td>\n    </tr>\n    <tr>\n      <th>2</th>\n      <td>0</td>\n      <td>@Kenichan I dived many times for the ball. Man...</td>\n    </tr>\n    <tr>\n      <th>3</th>\n      <td>0</td>\n      <td>my whole body feels itchy and like its on fire</td>\n    </tr>\n    <tr>\n      <th>4</th>\n      <td>0</td>\n      <td>@nationwideclass no, it's not behaving at all....</td>\n    </tr>\n  </tbody>\n</table>\n</div>"
          },
          "metadata": {}
        }
      ]
    },
    {
      "cell_type": "markdown",
      "source": [
        "\n",
        "# *Data Preprocessing and Label Refinement for Sentiment Analysis*\n",
        "1. Filtering Rows: The first line filters rows in the DataFrame where the value in the 'target' column is equal to 4. It uses boolean indexing with .loc[] to select rows meeting this condition. Then, it assigns the value 1 to the 'target' column for these selected rows\n",
        "\n",
        "3. Counting Values: The second line calculates the count of unique values in the 'target' column of the DataFrame using the value_counts() method. This method returns a Series with the counts of unique values in descending order."
      ],
      "metadata": {
        "id": "Nf1XJWNPER0k"
      }
    },
    {
      "cell_type": "code",
      "source": [
        "train_tweets.loc[train_tweets['target'] == 4, 'target'] = 1\n",
        "train_tweets[\"target\"].value_counts()"
      ],
      "metadata": {
        "execution": {
          "iopub.status.busy": "2024-04-10T18:45:51.816014Z",
          "iopub.execute_input": "2024-04-10T18:45:51.816261Z",
          "iopub.status.idle": "2024-04-10T18:45:51.834311Z",
          "shell.execute_reply.started": "2024-04-10T18:45:51.816235Z",
          "shell.execute_reply": "2024-04-10T18:45:51.833616Z"
        },
        "trusted": true,
        "id": "l2Ct62Dj6hkn",
        "outputId": "9f87386e-4f8b-4d9d-b3f8-9f3ac5761818"
      },
      "execution_count": null,
      "outputs": [
        {
          "execution_count": 9,
          "output_type": "execute_result",
          "data": {
            "text/plain": "target\n0    800000\n1    800000\nName: count, dtype: int64"
          },
          "metadata": {}
        }
      ]
    },
    {
      "cell_type": "code",
      "source": [
        "train_tweets = train_tweets.rename(columns={'target': 'label'})\n",
        "\n",
        "\n",
        "m_train = train_tweets.copy()\n",
        "m_train.reset_index(inplace=True)"
      ],
      "metadata": {
        "execution": {
          "iopub.status.busy": "2024-04-10T18:45:51.835414Z",
          "iopub.execute_input": "2024-04-10T18:45:51.835744Z",
          "iopub.status.idle": "2024-04-10T18:45:51.920868Z",
          "shell.execute_reply.started": "2024-04-10T18:45:51.835715Z",
          "shell.execute_reply": "2024-04-10T18:45:51.920083Z"
        },
        "trusted": true,
        "id": "Wmluyriw6hko"
      },
      "execution_count": null,
      "outputs": []
    },
    {
      "cell_type": "code",
      "source": [
        "#For data visualization\n",
        "import matplotlib.pyplot as plt\n",
        "import matplotlib.patches as mpatches\n",
        "\n",
        "%matplotlib inline\n",
        "\n",
        "# pd.options.plotting.backend = \"plotly\""
      ],
      "metadata": {
        "execution": {
          "iopub.status.busy": "2024-04-10T18:45:51.921853Z",
          "iopub.execute_input": "2024-04-10T18:45:51.922091Z",
          "iopub.status.idle": "2024-04-10T18:45:52.270956Z",
          "shell.execute_reply.started": "2024-04-10T18:45:51.922067Z",
          "shell.execute_reply": "2024-04-10T18:45:52.270250Z"
        },
        "trusted": true,
        "id": "dAV09VyQ6hkp"
      },
      "execution_count": null,
      "outputs": []
    },
    {
      "cell_type": "code",
      "source": [
        "\n",
        "data_train = m_train[['text', 'label']].copy()\n",
        "data_train.groupby('label').count().plot(kind='bar')"
      ],
      "metadata": {
        "execution": {
          "iopub.status.busy": "2024-04-10T18:45:52.271903Z",
          "iopub.execute_input": "2024-04-10T18:45:52.272148Z",
          "iopub.status.idle": "2024-04-10T18:45:52.639339Z",
          "shell.execute_reply.started": "2024-04-10T18:45:52.272123Z",
          "shell.execute_reply": "2024-04-10T18:45:52.638635Z"
        },
        "trusted": true,
        "id": "00JQ0lnp6hkp",
        "outputId": "422a5aea-c630-48f0-cffc-2be849203d07"
      },
      "execution_count": null,
      "outputs": [
        {
          "execution_count": 12,
          "output_type": "execute_result",
          "data": {
            "text/plain": "<Axes: xlabel='label'>"
          },
          "metadata": {}
        },
        {
          "output_type": "display_data",
          "data": {
            "text/plain": "<Figure size 640x480 with 1 Axes>",
            "image/png": "[encoded data removed]"
          },
          "metadata": {}
        }
      ]
    },
    {
      "cell_type": "markdown",
      "source": [
        "*This code snippet uses NLTK and regular expressions to preprocess text data. It removes non-alphabetic characters, converts text to lowercase, and applies stemming (`Lemmentization`)while excluding stopwords. The resulting preprocessed text is stored in a list called `corpus`, facilitating further analysis such as sentiment analysis or topic modeling.*\n",
        "\n",
        "---\n",
        "\n"
      ],
      "metadata": {
        "id": "DxiDWA5-DbAR"
      }
    },
    {
      "cell_type": "code",
      "source": [
        "import string\n",
        "\n",
        "def clean_text(text):\n",
        "\n",
        "    text = re.sub('\\[.*?\\]', '', text)\n",
        "    # links\n",
        "    text = re.sub('https?://\\S+|www\\.\\S+', '', text)\n",
        "    # multiple dots\n",
        "    text = re.sub('<.*?>+', '', text)\n",
        "    # punctuation\n",
        "    text = re.sub('[%s]' % re.escape(str.punctuation), '', text)\n",
        "    # new lines\n",
        "    text = re.sub('\\n', '', text)\n",
        "    # words containing numbers\n",
        "    text = re.sub('\\w*\\d\\w*', '', text)\n",
        "    # Remove any remaining non-ASCII characters\n",
        "    text = ''.join(char for char in text if ord(char) < 128)\n",
        "    return text"
      ],
      "metadata": {
        "execution": {
          "iopub.status.busy": "2024-04-10T18:45:52.640363Z",
          "iopub.execute_input": "2024-04-10T18:45:52.640636Z",
          "iopub.status.idle": "2024-04-10T18:45:52.647075Z",
          "shell.execute_reply.started": "2024-04-10T18:45:52.640610Z",
          "shell.execute_reply": "2024-04-10T18:45:52.646485Z"
        },
        "trusted": true,
        "id": "H5Lp7upY6hkq"
      },
      "execution_count": null,
      "outputs": []
    },
    {
      "cell_type": "code",
      "source": [
        "from keras.preprocessing.text import Tokenizer\n",
        "\n",
        "# Download NLTK resources\n",
        "\n",
        "# nltk.download()\n",
        "nltk.download('stopwords')\n",
        "nltk.download('wordnet')\n",
        "\n",
        "# nltk.data.path.append('/kaggle/working/')\n",
        "\n",
        "\n",
        "class TextPreprocessor:\n",
        "    def __init__(self):\n",
        "        # Initialize lemmatizer and stemmer\n",
        "        self.lemm = WordNetLemmatizer()\n",
        "        self.stemmer = PorterStemmer()\n",
        "\n",
        "        # Define stopwords including negation words\n",
        "        self.stop_words = set(stopwords.words('english'))\n",
        "        self.negation_words = {'not', 'no', 'never', 'nor','neither', 'none', 'nobody', 'nothing', 'nowhere','cannot', \"couldn't\", \"shouldn't\", \"wouldn't\", \"won't\"}\n",
        "        self.stop_words -= self.negation_words\n",
        "\n",
        "        # Initialize corpus\n",
        "        self.corpus = []\n",
        "\n",
        "    def normalized_text(self, data):\n",
        "        \"\"\"Preprocesses text data.\"\"\"\n",
        "        for i in range(len(data)):\n",
        "#             review =  clean_text(data[i])\n",
        "            review = re.sub('[^a-zA-Z]', ' ', data[i])\n",
        "            review = review.lower()\n",
        "            review = review.split()\n",
        "            review = [self.lemm.lemmatize(word) for word in review if word not in self.stop_words]\n",
        "            review = ' '.join(review)\n",
        "            self.corpus.append(review)\n",
        "        return self.corpus\n",
        "\n",
        "    def preprocess_text(self, df, voc_size, sent_length):\n",
        "\n",
        "      onehot_repr = [one_hot(words, voc_size) for words in df]\n",
        "      embedded_docs = pad_sequences(onehot_repr, padding='pre', maxlen=sent_length)\n",
        "      return embedded_docs\n",
        "\n",
        "    def vectorized_text(self,num_words,df,sent_length):\n",
        "        tok = Tokenizer(num_words)\n",
        "        tok.fit_on_texts(df)\n",
        "        sequences = tok.texts_to_sequences(df)\n",
        "        sequences_matrix = pad_sequences(sequences,maxlen=max_length)\n",
        "\n",
        "        return sequences_matrix\n",
        "\n",
        "\n",
        "\n"
      ],
      "metadata": {
        "execution": {
          "iopub.status.busy": "2024-04-10T18:45:52.650252Z",
          "iopub.execute_input": "2024-04-10T18:45:52.650512Z",
          "iopub.status.idle": "2024-04-10T18:45:52.802435Z",
          "shell.execute_reply.started": "2024-04-10T18:45:52.650486Z",
          "shell.execute_reply": "2024-04-10T18:45:52.801783Z"
        },
        "trusted": true,
        "id": "KBp1t4O-6hkq",
        "outputId": "adbc0621-3d11-48c6-db13-d2cde6ef3226"
      },
      "execution_count": null,
      "outputs": [
        {
          "name": "stderr",
          "text": "[nltk_data] Downloading package stopwords to /root/nltk_data...\n[nltk_data]   Package stopwords is already up-to-date!\n[nltk_data] Downloading package wordnet to /root/nltk_data...\n[nltk_data]   Package wordnet is already up-to-date!\n",
          "output_type": "stream"
        }
      ]
    },
    {
      "cell_type": "code",
      "source": [
        "# pip install --upgrade nltk\n"
      ],
      "metadata": {
        "execution": {
          "iopub.status.busy": "2024-04-10T18:45:52.803328Z",
          "iopub.execute_input": "2024-04-10T18:45:52.803576Z",
          "iopub.status.idle": "2024-04-10T18:45:52.806750Z",
          "shell.execute_reply.started": "2024-04-10T18:45:52.803551Z",
          "shell.execute_reply": "2024-04-10T18:45:52.806108Z"
        },
        "trusted": true,
        "id": "9M7mERAI6hkr"
      },
      "execution_count": null,
      "outputs": []
    },
    {
      "cell_type": "code",
      "source": [
        "import nltk\n",
        "\n",
        "\n",
        "train_data_preprocessor = TextPreprocessor()\n",
        "\n",
        "df2 = train_data_preprocessor.normalized_text(data_train['text'])\n",
        "\n",
        "print( pd.DataFrame({'text': df2}).shape)\n"
      ],
      "metadata": {
        "execution": {
          "iopub.status.busy": "2024-04-10T18:45:52.807655Z",
          "iopub.execute_input": "2024-04-10T18:45:52.807919Z",
          "iopub.status.idle": "2024-04-10T18:46:55.236612Z",
          "shell.execute_reply.started": "2024-04-10T18:45:52.807892Z",
          "shell.execute_reply": "2024-04-10T18:46:55.235854Z"
        },
        "trusted": true,
        "id": "lXVfgjgG6hkr",
        "outputId": "da71a2d3-7f27-4270-f7c9-0fcc92cc1c1d"
      },
      "execution_count": null,
      "outputs": [
        {
          "name": "stdout",
          "text": "(1600000, 1)\n",
          "output_type": "stream"
        }
      ]
    },
    {
      "cell_type": "code",
      "source": [
        "print( pd.DataFrame({'text': df2}))"
      ],
      "metadata": {
        "execution": {
          "iopub.status.busy": "2024-04-10T18:46:55.237560Z",
          "iopub.execute_input": "2024-04-10T18:46:55.237840Z",
          "iopub.status.idle": "2024-04-10T18:46:55.378539Z",
          "shell.execute_reply.started": "2024-04-10T18:46:55.237813Z",
          "shell.execute_reply": "2024-04-10T18:46:55.377833Z"
        },
        "trusted": true,
        "id": "jlSTcTW56hks",
        "outputId": "a8dbf758-045f-41bc-95b8-40b322e9f1ca"
      },
      "execution_count": null,
      "outputs": [
        {
          "name": "stdout",
          "text": "                                                      text\n0        switchfoot http twitpic com zl awww bummer sho...\n1        upset update facebook texting might cry result...\n2        kenichan dived many time ball managed save res...\n3                          whole body feel itchy like fire\n4                  nationwideclass no not behaving mad see\n...                                                    ...\n1599995                   woke no school best feeling ever\n1599996  thewdb com cool hear old walt interview http b...\n1599997                     ready mojo makeover ask detail\n1599998  happy th birthday boo alll time tupac amaru sh...\n1599999  happy charitytuesday thenspcc sparkscharity sp...\n\n[1600000 rows x 1 columns]\n",
          "output_type": "stream"
        }
      ]
    },
    {
      "cell_type": "code",
      "source": [
        "max_length = 0\n",
        "\n",
        "# Iterate through each string in the list\n",
        "for string in df2:\n",
        "\n",
        "    words = string.split()\n",
        "\n",
        "    for word in words:\n",
        "        # Update maximum length if necessary\n",
        "        max_length = max(max_length, len(word))\n",
        "\n",
        "\n",
        "print(\"Maximum length of a word:\", max_length)"
      ],
      "metadata": {
        "execution": {
          "iopub.status.busy": "2024-04-10T18:46:55.379438Z",
          "iopub.execute_input": "2024-04-10T18:46:55.379708Z",
          "iopub.status.idle": "2024-04-10T18:47:00.449294Z",
          "shell.execute_reply.started": "2024-04-10T18:46:55.379682Z",
          "shell.execute_reply": "2024-04-10T18:47:00.448571Z"
        },
        "trusted": true,
        "id": "WEirhPxt6hks",
        "outputId": "9dc6e1ca-9952-4b90-d35c-aad885797ade"
      },
      "execution_count": null,
      "outputs": [
        {
          "name": "stdout",
          "text": "Maximum length of a word: 117\n",
          "output_type": "stream"
        }
      ]
    },
    {
      "cell_type": "code",
      "source": [
        "\n",
        "# max_len = 500\n",
        "# tok = Tokenizer(num_words=2000)\n",
        "# tok.fit_on_texts(df2)\n",
        "# sequences = tok.texts_to_sequences(df2)\n",
        "# sequences_matrix = pad_sequences(sequences,maxlen=max_length)\n",
        "\n"
      ],
      "metadata": {
        "execution": {
          "iopub.status.busy": "2024-04-10T18:47:00.450190Z",
          "iopub.execute_input": "2024-04-10T18:47:00.450429Z",
          "iopub.status.idle": "2024-04-10T18:47:00.453814Z",
          "shell.execute_reply.started": "2024-04-10T18:47:00.450405Z",
          "shell.execute_reply": "2024-04-10T18:47:00.453136Z"
        },
        "trusted": true,
        "id": "-7HIjlce6hks"
      },
      "execution_count": null,
      "outputs": []
    },
    {
      "cell_type": "code",
      "source": [
        "\n",
        "\n",
        "voc_size=2000\n",
        "\n",
        "embedded_docs_train =train_data_preprocessor.vectorized_text(voc_size,df2,max_length)\n",
        "# sequences_matrix"
      ],
      "metadata": {
        "execution": {
          "iopub.status.busy": "2024-04-10T18:47:00.454729Z",
          "iopub.execute_input": "2024-04-10T18:47:00.454997Z",
          "iopub.status.idle": "2024-04-10T18:47:43.936225Z",
          "shell.execute_reply.started": "2024-04-10T18:47:00.454970Z",
          "shell.execute_reply": "2024-04-10T18:47:43.935434Z"
        },
        "trusted": true,
        "id": "lNIHmMAr6hkt"
      },
      "execution_count": null,
      "outputs": []
    },
    {
      "cell_type": "code",
      "source": [
        "\n",
        "# voc_size=5000\n",
        "\n",
        "# embedded_docs_train =train_data_preprocessor.preprocess_text(df2,voc_size,max_length)\n",
        "\n",
        "# print(embedded_docs_train)"
      ],
      "metadata": {
        "execution": {
          "iopub.status.busy": "2024-04-10T18:47:43.937225Z",
          "iopub.execute_input": "2024-04-10T18:47:43.937521Z",
          "iopub.status.idle": "2024-04-10T18:47:43.941202Z",
          "shell.execute_reply.started": "2024-04-10T18:47:43.937492Z",
          "shell.execute_reply": "2024-04-10T18:47:43.940489Z"
        },
        "trusted": true,
        "id": "JHD8KTxp6hkt"
      },
      "execution_count": null,
      "outputs": []
    },
    {
      "cell_type": "markdown",
      "source": [
        "*This code block defines a neural network model for text classification. It utilizes an embedding layer to transform input words into dense vectors, followed by  LSTM layer to capture contextual information . The model is then compiled with the sparse categorical cross-entropy loss function, the RMSprop optimizer, and accuracy as the evaluation metric. Finally, the model summary is printed, providing an overview of its architecture and the number of trainable parameters.*\n",
        "\n",
        "---\n",
        "\n"
      ],
      "metadata": {
        "id": "sr7fHVThDQJm"
      }
    },
    {
      "cell_type": "code",
      "source": [
        "# from keras.layers import Flatten\n",
        "from keras.layers import Dropout as dropout\n",
        "\n",
        "from keras.callbacks import EarlyStopping\n",
        "from sklearn.metrics import accuracy_score\n",
        "\n",
        "\n",
        "# y_pred3.history\n",
        "\n",
        "# detect and init the TPU\n",
        "tpu = tf.distribute.cluster_resolver.TPUClusterResolver()\n",
        "\n",
        "# instantiate a distribution strategy\n",
        "tf.tpu.experimental.initialize_tpu_system(tpu)\n",
        "tpu_strategy = tf.distribute.TPUStrategy(tpu)\n",
        "\n",
        "with tpu_strategy.scope():\n",
        "## Creating model\n",
        "    embedding_vector_features=100\n",
        "    model=Sequential()\n",
        "    model.add(Embedding(voc_size,embedding_vector_features,input_length = max_length))\n",
        "\n",
        "#     model.add(Embedding(voc_size,embedding_vector_features,input_shape=(max_length,)))\n",
        "\n",
        "    # model.add(Bidirectional(LSTM(200,dropout=0.2,return_sequences=False)))\n",
        "\n",
        "#     model.add(Flatten())\n",
        "\n",
        "    model.add(Bidirectional(LSTM(units=256, dropout=0.5, recurrent_dropout=0.2, return_sequences=True)))\n",
        "    model.add(Bidirectional(LSTM(units=128, dropout=0.5, recurrent_dropout=0.2)))\n",
        "\n",
        "    model.add(Dense(64, activation='relu'))\n",
        "    model.add(dropout(0.5))\n",
        "\n",
        "\n",
        "\n",
        "    model.add(Dense(1,activation='sigmoid'))\n",
        "\n",
        "    # Define EarlyStopping callback\n",
        "#     early_stopping = EarlyStopping(monitor='val_loss', patience=20, restore_best_weights=True)\n",
        "\n",
        "    model.compile(loss='binary_crossentropy',optimizer='RMSprop',metrics=['accuracy'], jit_compile='False')\n",
        "    print(model.summary())"
      ],
      "metadata": {
        "trusted": true,
        "id": "FGO1z5nX6hkt"
      },
      "execution_count": null,
      "outputs": []
    },
    {
      "cell_type": "code",
      "source": [
        "x_train=embedded_docs_train\n",
        "y_train=data_train[\"label\"]\n",
        "\n",
        "x_train.shape,y_train.shape"
      ],
      "metadata": {
        "execution": {
          "iopub.status.busy": "2024-04-10T18:47:56.268885Z",
          "iopub.execute_input": "2024-04-10T18:47:56.269166Z",
          "iopub.status.idle": "2024-04-10T18:47:56.275008Z",
          "shell.execute_reply.started": "2024-04-10T18:47:56.269129Z",
          "shell.execute_reply": "2024-04-10T18:47:56.274133Z"
        },
        "trusted": true,
        "id": "aEQegvJr6hku",
        "outputId": "de6eb0bc-8994-4960-9d58-94f1c479d658"
      },
      "execution_count": null,
      "outputs": [
        {
          "execution_count": 23,
          "output_type": "execute_result",
          "data": {
            "text/plain": "((1600000, 117), (1600000,))"
          },
          "metadata": {}
        }
      ]
    },
    {
      "cell_type": "code",
      "source": [
        "embedded_docs_train.shape"
      ],
      "metadata": {
        "execution": {
          "iopub.status.busy": "2024-04-10T18:47:56.275940Z",
          "iopub.execute_input": "2024-04-10T18:47:56.276216Z",
          "iopub.status.idle": "2024-04-10T18:47:56.293364Z",
          "shell.execute_reply.started": "2024-04-10T18:47:56.276191Z",
          "shell.execute_reply": "2024-04-10T18:47:56.292627Z"
        },
        "trusted": true,
        "id": "D3APjpcI6hku",
        "outputId": "ad1741ce-2f2b-4456-bc32-a2b190eec082"
      },
      "execution_count": null,
      "outputs": [
        {
          "execution_count": 24,
          "output_type": "execute_result",
          "data": {
            "text/plain": "(1600000, 117)"
          },
          "metadata": {}
        }
      ]
    },
    {
      "cell_type": "code",
      "source": [
        "# y_train = y_train.reshape((-1, 1))"
      ],
      "metadata": {
        "execution": {
          "iopub.status.busy": "2024-04-10T18:47:56.294221Z",
          "iopub.execute_input": "2024-04-10T18:47:56.294452Z",
          "iopub.status.idle": "2024-04-10T18:47:56.307715Z",
          "shell.execute_reply.started": "2024-04-10T18:47:56.294428Z",
          "shell.execute_reply": "2024-04-10T18:47:56.306927Z"
        },
        "trusted": true,
        "id": "To6HyyXs6hkv"
      },
      "execution_count": null,
      "outputs": []
    },
    {
      "cell_type": "code",
      "source": [
        "y_train"
      ],
      "metadata": {
        "execution": {
          "iopub.status.busy": "2024-04-10T18:47:56.308612Z",
          "iopub.execute_input": "2024-04-10T18:47:56.308877Z",
          "iopub.status.idle": "2024-04-10T18:47:56.323621Z",
          "shell.execute_reply.started": "2024-04-10T18:47:56.308851Z",
          "shell.execute_reply": "2024-04-10T18:47:56.322867Z"
        },
        "trusted": true,
        "id": "NNWRviEg6hkv",
        "outputId": "9e9c2e84-c09a-4738-8b51-0ac69737d250"
      },
      "execution_count": null,
      "outputs": [
        {
          "execution_count": 26,
          "output_type": "execute_result",
          "data": {
            "text/plain": "0          0\n1          0\n2          0\n3          0\n4          0\n          ..\n1599995    1\n1599996    1\n1599997    1\n1599998    1\n1599999    1\nName: label, Length: 1600000, dtype: int64"
          },
          "metadata": {}
        }
      ]
    },
    {
      "cell_type": "code",
      "source": [
        "y_train.dtype"
      ],
      "metadata": {
        "execution": {
          "iopub.status.busy": "2024-04-10T18:47:56.324524Z",
          "iopub.execute_input": "2024-04-10T18:47:56.324797Z",
          "iopub.status.idle": "2024-04-10T18:47:56.341608Z",
          "shell.execute_reply.started": "2024-04-10T18:47:56.324770Z",
          "shell.execute_reply": "2024-04-10T18:47:56.340790Z"
        },
        "trusted": true,
        "id": "VOUBP79J6hkv",
        "outputId": "a2b28d68-eef7-40a4-e56b-4e65d290d046"
      },
      "execution_count": null,
      "outputs": [
        {
          "execution_count": 27,
          "output_type": "execute_result",
          "data": {
            "text/plain": "dtype('int64')"
          },
          "metadata": {}
        }
      ]
    },
    {
      "cell_type": "code",
      "source": [
        "x_train.dtype"
      ],
      "metadata": {
        "execution": {
          "iopub.status.busy": "2024-04-10T18:47:56.342497Z",
          "iopub.execute_input": "2024-04-10T18:47:56.342775Z",
          "iopub.status.idle": "2024-04-10T18:47:56.352051Z",
          "shell.execute_reply.started": "2024-04-10T18:47:56.342748Z",
          "shell.execute_reply": "2024-04-10T18:47:56.351311Z"
        },
        "trusted": true,
        "id": "sy0K7px96hkw",
        "outputId": "e1eca3da-5537-4c1e-b8a3-c83a4c60d0e9"
      },
      "execution_count": null,
      "outputs": [
        {
          "execution_count": 28,
          "output_type": "execute_result",
          "data": {
            "text/plain": "dtype('int32')"
          },
          "metadata": {}
        }
      ]
    },
    {
      "cell_type": "code",
      "source": [
        "X_train, X_test, y_train, y_test = train_test_split(x_train, y_train, test_size= 0.3 , random_state=64)"
      ],
      "metadata": {
        "execution": {
          "iopub.status.busy": "2024-04-10T18:47:56.352960Z",
          "iopub.execute_input": "2024-04-10T18:47:56.353219Z",
          "iopub.status.idle": "2024-04-10T18:47:56.775382Z",
          "shell.execute_reply.started": "2024-04-10T18:47:56.353192Z",
          "shell.execute_reply": "2024-04-10T18:47:56.774422Z"
        },
        "trusted": true,
        "id": "DRCbJ3WK6hkw"
      },
      "execution_count": null,
      "outputs": []
    },
    {
      "cell_type": "code",
      "source": [
        "y_pred3 = model.fit(X_train,y_train,validation_data=(X_test,y_test), epochs=10,batch_size=100 )"
      ],
      "metadata": {
        "execution": {
          "iopub.status.busy": "2024-04-10T18:47:56.776370Z",
          "iopub.execute_input": "2024-04-10T18:47:56.776665Z",
          "iopub.status.idle": "2024-04-10T20:16:33.350709Z",
          "shell.execute_reply.started": "2024-04-10T18:47:56.776635Z",
          "shell.execute_reply": "2024-04-10T20:16:33.349667Z"
        },
        "trusted": true,
        "id": "33yYQ0Mq6hkw",
        "outputId": "e81d2a50-c31d-4260-cddf-5139cc14b78f"
      },
      "execution_count": null,
      "outputs": [
        {
          "name": "stdout",
          "text": "Epoch 1/10\n",
          "output_type": "stream"
        },
        {
          "name": "stderr",
          "text": "2024-04-10 18:47:58.495569: E external/local_xla/xla/stream_executor/stream_executor_internal.h:177] SetPriority unimplemented for this stream.\n2024-04-10 18:47:58.517488: E external/local_xla/xla/stream_executor/stream_executor_internal.h:177] SetPriority unimplemented for this stream.\n2024-04-10 18:47:58.539229: E external/local_xla/xla/stream_executor/stream_executor_internal.h:177] SetPriority unimplemented for this stream.\n2024-04-10 18:47:58.561707: E external/local_xla/xla/stream_executor/stream_executor_internal.h:177] SetPriority unimplemented for this stream.\n2024-04-10 18:47:58.583995: E external/local_xla/xla/stream_executor/stream_executor_internal.h:177] SetPriority unimplemented for this stream.\n2024-04-10 18:47:58.606100: E external/local_xla/xla/stream_executor/stream_executor_internal.h:177] SetPriority unimplemented for this stream.\n2024-04-10 18:47:58.627031: E external/local_xla/xla/stream_executor/stream_executor_internal.h:177] SetPriority unimplemented for this stream.\n2024-04-10 18:48:07.455585: E tensorflow/core/grappler/optimizers/meta_optimizer.cc:961] model_pruner failed: INVALID_ARGUMENT: Graph does not contain terminal node StatefulPartitionedCall.\n2024-04-10 18:48:08.257077: E external/local_xla/xla/stream_executor/stream_executor_internal.h:177] SetPriority unimplemented for this stream.\n2024-04-10 18:48:08.260361: E external/local_xla/xla/stream_executor/stream_executor_internal.h:177] SetPriority unimplemented for this stream.\n2024-04-10 18:48:08.260710: E external/local_xla/xla/stream_executor/stream_executor_internal.h:177] SetPriority unimplemented for this stream.\n2024-04-10 18:48:08.261274: E external/local_xla/xla/stream_executor/stream_executor_internal.h:177] SetPriority unimplemented for this stream.\n2024-04-10 18:48:08.261708: E external/local_xla/xla/stream_executor/stream_executor_internal.h:177] SetPriority unimplemented for this stream.\n",
          "output_type": "stream"
        },
        {
          "name": "stdout",
          "text": "    3/11200 [..............................] - ETA: 8:19 - loss: 0.6622 - accuracy: 0.5288    ",
          "output_type": "stream"
        },
        {
          "name": "stderr",
          "text": "2024-04-10 18:48:14.136327: E external/local_xla/xla/stream_executor/stream_executor_internal.h:177] SetPriority unimplemented for this stream.\n2024-04-10 18:48:14.136607: E external/local_xla/xla/stream_executor/stream_executor_internal.h:177] SetPriority unimplemented for this stream.\n2024-04-10 18:48:14.136818: E external/local_xla/xla/stream_executor/stream_executor_internal.h:177] SetPriority unimplemented for this stream.\n2024-04-10 18:48:14.143500: E external/local_xla/xla/stream_executor/stream_executor_internal.h:177] SetPriority unimplemented for this stream.\n2024-04-10 18:48:14.145169: E external/local_xla/xla/stream_executor/stream_executor_internal.h:177] SetPriority unimplemented for this stream.\n2024-04-10 18:48:14.145505: E external/local_xla/xla/stream_executor/stream_executor_internal.h:177] SetPriority unimplemented for this stream.\n2024-04-10 18:48:14.145878: E external/local_xla/xla/stream_executor/stream_executor_internal.h:177] SetPriority unimplemented for this stream.\n2024-04-10 18:48:14.146116: E external/local_xla/xla/stream_executor/stream_executor_internal.h:177] SetPriority unimplemented for this stream.\n2024-04-10 18:48:14.205404: E external/local_xla/xla/stream_executor/stream_executor_internal.h:177] SetPriority unimplemented for this stream.\n2024-04-10 18:48:14.205676: E external/local_xla/xla/stream_executor/stream_executor_internal.h:177] SetPriority unimplemented for this stream.\n2024-04-10 18:48:14.205960: E external/local_xla/xla/stream_executor/stream_executor_internal.h:177] SetPriority unimplemented for this stream.\n2024-04-10 18:48:14.206289: E external/local_xla/xla/stream_executor/stream_executor_internal.h:177] SetPriority unimplemented for this stream.\n2024-04-10 18:48:14.206509: E external/local_xla/xla/stream_executor/stream_executor_internal.h:177] SetPriority unimplemented for this stream.\n2024-04-10 18:48:14.206783: E external/local_xla/xla/stream_executor/stream_executor_internal.h:177] SetPriority unimplemented for this stream.\n2024-04-10 18:48:14.207022: E external/local_xla/xla/stream_executor/stream_executor_internal.h:177] SetPriority unimplemented for this stream.\n2024-04-10 18:48:14.248154: E external/local_xla/xla/stream_executor/stream_executor_internal.h:177] SetPriority unimplemented for this stream.\n2024-04-10 18:48:14.248706: E external/local_xla/xla/stream_executor/stream_executor_internal.h:177] SetPriority unimplemented for this stream.\n2024-04-10 18:48:14.293773: E external/local_xla/xla/stream_executor/stream_executor_internal.h:177] SetPriority unimplemented for this stream.\n",
          "output_type": "stream"
        },
        {
          "name": "stdout",
          "text": "11200/11200 [==============================] - ETA: 0s - loss: 0.4778 - accuracy: 0.7301",
          "output_type": "stream"
        },
        {
          "name": "stderr",
          "text": "2024-04-10 18:55:59.605091: E tensorflow/core/grappler/optimizers/meta_optimizer.cc:961] model_pruner failed: INVALID_ARGUMENT: Graph does not contain terminal node StatefulPartitionedCall.\n",
          "output_type": "stream"
        },
        {
          "name": "stdout",
          "text": "11200/11200 [==============================] - 543s 47ms/step - loss: 0.4778 - accuracy: 0.7301 - val_loss: 0.4535 - val_accuracy: 0.7435\nEpoch 2/10\n11200/11200 [==============================] - 537s 48ms/step - loss: 0.4572 - accuracy: 0.7446 - val_loss: 0.4479 - val_accuracy: 0.7479\nEpoch 3/10\n11200/11200 [==============================] - 534s 48ms/step - loss: 0.4519 - accuracy: 0.7473 - val_loss: 0.4456 - val_accuracy: 0.7493\nEpoch 4/10\n11200/11200 [==============================] - 534s 48ms/step - loss: 0.4495 - accuracy: 0.7488 - val_loss: 0.4440 - val_accuracy: 0.7498\nEpoch 5/10\n11200/11200 [==============================] - 524s 47ms/step - loss: 0.4480 - accuracy: 0.7498 - val_loss: 0.4421 - val_accuracy: 0.7507\nEpoch 6/10\n11200/11200 [==============================] - 522s 47ms/step - loss: 0.4478 - accuracy: 0.7502 - val_loss: 0.4445 - val_accuracy: 0.7508\nEpoch 7/10\n11200/11200 [==============================] - 530s 47ms/step - loss: 0.4479 - accuracy: 0.7505 - val_loss: 0.4446 - val_accuracy: 0.7512\nEpoch 8/10\n11200/11200 [==============================] - 529s 47ms/step - loss: 0.4468 - accuracy: 0.7514 - val_loss: 0.4388 - val_accuracy: 0.7523\nEpoch 9/10\n11200/11200 [==============================] - 527s 47ms/step - loss: 0.4463 - accuracy: 0.7518 - val_loss: 0.4398 - val_accuracy: 0.7525\nEpoch 10/10\n11200/11200 [==============================] - 534s 48ms/step - loss: 0.4453 - accuracy: 0.7527 - val_loss: 0.4394 - val_accuracy: 0.7530\n",
          "output_type": "stream"
        }
      ]
    },
    {
      "cell_type": "code",
      "source": [
        "y_predict = model.predict(X_test)\n",
        "y_predict"
      ],
      "metadata": {
        "execution": {
          "iopub.status.busy": "2024-04-10T20:16:33.353133Z",
          "iopub.execute_input": "2024-04-10T20:16:33.353456Z",
          "iopub.status.idle": "2024-04-10T20:19:26.778863Z",
          "shell.execute_reply.started": "2024-04-10T20:16:33.353425Z",
          "shell.execute_reply": "2024-04-10T20:19:26.777755Z"
        },
        "trusted": true,
        "id": "f5QZANQb6hkx",
        "outputId": "1a402067-a98d-42a3-e56a-35df5f7cfbc6"
      },
      "execution_count": null,
      "outputs": [
        {
          "name": "stderr",
          "text": "2024-04-10 20:16:35.159055: E tensorflow/core/grappler/optimizers/meta_optimizer.cc:961] model_pruner failed: INVALID_ARGUMENT: Graph does not contain terminal node StatefulPartitionedCall.\n",
          "output_type": "stream"
        },
        {
          "name": "stdout",
          "text": "15000/15000 [==============================] - 166s 11ms/step\n",
          "output_type": "stream"
        },
        {
          "execution_count": 31,
          "output_type": "execute_result",
          "data": {
            "text/plain": "array([[0.9115588 ],\n       [0.9044721 ],\n       [0.31153518],\n       ...,\n       [0.03039557],\n       [0.9236398 ],\n       [0.15371886]], dtype=float32)"
          },
          "metadata": {}
        }
      ]
    },
    {
      "cell_type": "code",
      "source": [
        "plt.plot(y_pred3.history['loss'])\n",
        "plt.plot(y_pred3.history['val_loss'])\n",
        "plt.title('Model loss')\n",
        "plt.ylabel('Loss')\n",
        "plt.xlabel('Epoch')\n",
        "plt.legend(['Train', 'Validation'], loc='upper right')\n",
        "plt.show()\n",
        "\n",
        "\n",
        "# Plot the accuracy of training and validation\n",
        "plt.plot(y_pred3.history['accuracy'])\n",
        "plt.plot(y_pred3.history['val_accuracy'])\n",
        "plt.title('Model Accuracy')\n",
        "plt.ylabel('Accuracy')\n",
        "plt.xlabel('Epoch')\n",
        "plt.legend(['Train', 'Validation'], loc='lower right')\n",
        "plt.show()"
      ],
      "metadata": {
        "execution": {
          "iopub.status.busy": "2024-04-10T20:19:26.780170Z",
          "iopub.execute_input": "2024-04-10T20:19:26.780524Z",
          "iopub.status.idle": "2024-04-10T20:19:27.133757Z",
          "shell.execute_reply.started": "2024-04-10T20:19:26.780491Z",
          "shell.execute_reply": "2024-04-10T20:19:27.132736Z"
        },
        "trusted": true,
        "id": "1UIaMuqV6hky",
        "outputId": "e90f189c-0233-4a9e-9a60-0d89a253bb55"
      },
      "execution_count": null,
      "outputs": [
        {
          "output_type": "display_data",
          "data": {
            "text/plain": "<Figure size 640x480 with 1 Axes>",
            "image/png": "[encoded data removed]"
          },
          "metadata": {}
        },
        {
          "output_type": "display_data",
          "data": {
            "text/plain": "<Figure size 640x480 with 1 Axes>",
            "image/png": "[encoded data removed]"
          },
          "metadata": {}
        }
      ]
    },
    {
      "cell_type": "code",
      "source": [
        "# model.save('sentimentalAnalysisTweets.h5')\n"
      ],
      "metadata": {
        "execution": {
          "iopub.status.busy": "2024-04-10T20:22:55.382094Z",
          "iopub.execute_input": "2024-04-10T20:22:55.382872Z",
          "iopub.status.idle": "2024-04-10T20:22:55.518161Z",
          "shell.execute_reply.started": "2024-04-10T20:22:55.382832Z",
          "shell.execute_reply": "2024-04-10T20:22:55.517100Z"
        },
        "trusted": true,
        "id": "UEtrWHeK6hky"
      },
      "execution_count": null,
      "outputs": []
    }
  ]
}